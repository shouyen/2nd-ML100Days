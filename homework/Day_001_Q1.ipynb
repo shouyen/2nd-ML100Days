﻿作業1：

請上 Kaggle, 在 Competitions 或 Dataset 中找一組競賽或資料並寫下：
1. 你選的這組資料為何重要
A：S&P500 是美國很重要的交易市場，很適合當作對其他市場的借鏡。

2. 資料從何而來 (tips: 譬如提供者是誰、以什麼方式蒐集)
A：https://www.kaggle.com/camnugent/sandp500

3. 蒐集而來的資料型態為何
Date - in format: yy-mm-dd
Open - price of the stock at market open (this is NYSE data so all in USD)
High - Highest price reached in the day
Low Close - Lowest price reached in the day
Volume - Number of shares traded
Name - the stock's ticker name

4. 這組資料想解決的問題如何評估
透過上述資料，找出相關有用的特徵指標，能夠在此市場找出獲利的可能。

作業2：

想像你經營一個自由載客車隊，你希望能透過數據分析以提升業績，請你思考並描述你如何規劃整體的分析/解決方案：

1. 核心問題為何 (tips：如何定義 「提升業績 & 你的假設」)
業績需建立在顧客的忠誠度，因此必需對顧客的回饋作出回應。

2. 資料從何而來 (tips：哪些資料可能會對你想問的問題產生影響 & 資料如何蒐集)
顧客完成一次載乘，可以提供折扣換取意見回饋。

3. 蒐集而來的資料型態為何
數字

4. 你要回答的問題，其如何評估 (tips：你的假設如何驗證)
